{
  "cells": [
    {
      "cell_type": "markdown",
      "metadata": {
        "id": "YLE9HR0ZIauw"
      },
      "source": [
        "# Contenido\n",
        "\n",
        "1. Introducción a las buenas prácticas\n",
        "3. Código limpio y modular - Teoría\n",
        "4. Refactorización de código - Teoría\n",
        "5. Escribiendo código limpio - Ejemplo\n",
        "6. Quiz práctico de código limpio\n",
        "7. Escribiendo código modular - Sugerencias y ejemplo\n",
        "8. Quiz práctico de código modular\n",
        "9. Eficiencia  y optimización de código - Teoría y ejemplo"
      ]
    },
    {
      "cell_type": "markdown",
      "metadata": {
        "id": "SmQa8-1zpW-o"
      },
      "source": [
        "# 1 - Introducción a las buenas prácticas\n",
        "Cuando de\n",
        "escribir códigos en producción se trata, es imprescindible adoptar las mejores prácticas de ingeniería de software que nos van a permitir escribir códigos:\n",
        "* Limpios\n",
        "* Modulares\n",
        "* Eficientes\n",
        "\n",
        "Al desarrollar estas habilidades esenciales, podremos crear y desplegar software de calidad (o soluciones) en ambientes productivos.\n",
        "\n",
        "Ademas, debido a la colaboracion con otros equipos y diferentes perfiles ( como científicos de datos o ingenieros de software), es importante estar al tanto con las prácticas comunes, y estar disponible para colaborar correctamente con el código de otras personas.\n",
        "\n",
        "\n",
        "\n"
      ]
    },
    {
      "cell_type": "markdown",
      "metadata": {
        "id": "c9Rr4tmJywtm"
      },
      "source": [
        "# 2 - Codigo limpio y modular\n",
        "Ya sea que seas un Machine Learning Engineer, Data Scientist, Software Engineer, etc, el código que escribas puede ser potencialmente ejecutado en un ambiente de producción.\n",
        "\n",
        "* **Código en producción**:\n",
        "Es el software que se ejecuta en servidores de producción para gestionar usuarios en vivo y datos de la audiencia prevista. Tenga en cuenta que esto es diferente del código de calidad de producción, que describe el código que cumple con las expectativas de producción en cuanto a confiabilidad, eficiencia y otros aspectos. Idealmente, todo el código en producción cumple con estas expectativas, pero no siempre es así.\n",
        "\n",
        "* **Código limpio**:\n",
        "  Se refiere al código legible, simple y conciso. El código de calidad de producción limpio es crucial para la colaboración y la capacidad de mantenimiento en el desarrollo de software.\n",
        "\n",
        "* **Código modular**:\n",
        "  Código que se descompone lógicamente en funciones y módulos. Código de calidad de producción modular que hace que su código sea más organizado, eficiente y reutilizable.\n",
        "\n",
        "* **Módulo**:\n",
        "  Es un archivo. Los módulos permiten reutilizar el código encapsulándolos en archivos que se pueden importar a otros archivos.\n"
      ]
    },
    {
      "cell_type": "markdown",
      "metadata": {
        "id": "i9qxISGA5BuD"
      },
      "source": [
        "# 3 - Refactorización de código\n",
        "Refactorizar significa cambiar la estructura del código reorganizando su representación interna sin modificar su comportamiento externo.\n",
        "\n",
        "Por lo general, cuando refactorizamos nuestro código, queremos mejorar su estructura y hacerlo mejor, a veces más genérico, más legible o más flexible. El desafío es lograr estos objetivos y, al mismo tiempo, conservar exactamente la misma funcionalidad que tenía antes de las modificaciones que se realizaron.\n",
        "\n",
        "La refactorización es una actividad crítica en el mantenimiento del software, pero es algo que no se puede hacer (al menos no correctamente) sin tener pruebas unitarias. Esto se debe a que, a medida que se realiza cada cambio, necesitamos saber que nuestro código sigue siendo correcto. En cierto sentido, puede pensar en nuestras pruebas unitarias como el \"observador externo\" de nuestro código, asegurándose de que el contrato no se rompa.\n",
        "\n",
        "Dado que no es fácil escribir el mejor código mientras todavía está tratando de hacerlo funcionar, asignar tiempo para hacer esto es esencial para producir código de alta calidad. A pesar del tiempo y el esfuerzo iniciales requeridos, esto realmente vale la pena al acelerar el tiempo de desarrollo a largo plazo.\n",
        "\n",
        "Te conviertes en un programador mucho más fuerte cuando buscas constantemente mejorar tu código. Cuanto más refactorice, más fácil será estructurar y escribir un buen código la primera vez.\n",
        "\n"
      ]
    },
    {
      "cell_type": "markdown",
      "metadata": {
        "id": "hzZ0bJvq6G65"
      },
      "source": [
        "# 4 - Escribiendo código limpio - Ejemplo\n"
      ]
    },
    {
      "cell_type": "markdown",
      "metadata": {
        "id": "H6iJxeTs7gVY"
      },
      "source": [
        "### 4.1 - Escribir código limpio: nombres significativos\n",
        "* *Sea descriptivo e implique el tipo*: para valores booleanos, puede usar el prefijo `is_` o `has_` ​​para dejar en claro que es una condición. También puede usar partes del discurso para implicar tipos, como usar verbos para funciones y sustantivos para variables.\n",
        "\n",
        "* *Sea consistente pero diferencie claramente*: `cats_list` y `cat` son más fáciles de diferenciar que solo `cats` y `cat`.\n",
        "\n",
        "* *Evite las abreviaturas y las letras sueltas*: puede determinar cuándo hacer estas excepciones en función de la audiencia de su código. Si trabaja con otros científicos de datos, ciertas variables pueden ser de conocimiento común. Mientras que si trabaja con ingenieros full-stack, también podría ser necesario proporcionar nombres más descriptivos en estos casos. (Las excepciones incluyen contadores y variables matemáticas comunes).\n",
        "\n",
        "* *Los nombres largos no son lo mismo que los nombres descriptivos*: debe ser descriptivo, pero solo con información relevante. Por ejemplo, los buenos nombres de funciones describen lo que hacen bien sin incluir detalles sobre la implementación o usos muy específicos.\n",
        "\n",
        "Intente probar qué tan efectivos son sus nombres pidiéndole a un compañero programador que adivine el propósito de una función o variable en función de su nombre, sin mirar su código. Encontrar nombres significativos a menudo requiere esfuerzo para hacerlo bien."
      ]
    },
    {
      "cell_type": "markdown",
      "metadata": {
        "id": "kO2kZMCM7h_C"
      },
      "source": [
        "### 4.2 - Escribir código limpio: espacios en blanco\n",
        "\n",
        "Usa los espacios en blanco correctamente.\n",
        "\n",
        "* *Organice su código con una sangría consistente*: el estándar es usar cuatro espacios para cada sangría. Puede hacer que esto sea predeterminado en su editor de texto.\n",
        "\n",
        "* Separe las secciones con líneas en blanco para mantener su código bien organizado y legible.\n",
        "\n",
        "* Trate de limitar sus líneas a alrededor de 79 caracteres, que es la pauta dada en la guía de estilo de PEP 8. En muchos buenos editores de texto, hay una configuración para mostrar una línea sutil que indica dónde está el límite de 79 caracteres.\n",
        "\n",
        "Para conocer más, consulte la sección de diseño de código de PEP 8 en las siguientes notas.\n",
        "\n",
        "[PEP 8 guidelines for code layout](https://peps.python.org/pep-0008/#code-lay-out)\n"
      ]
    },
    {
      "cell_type": "markdown",
      "metadata": {
        "id": "3fs5bgvVHsSx"
      },
      "source": [
        "# 5 - Quiz práctico de código limpio\n",
        "\n"
      ]
    },
    {
      "cell_type": "markdown",
      "metadata": {
        "id": "1soV3fzmL-cl"
      },
      "source": [
        "### 5.1 Clasificando imagenes\n",
        "Pensemos en un programa que realiza alguna operación, por ejemplo, clasificar una imagen. El código de abajo es una representación del código.\n",
        "\n",
        "**¿Qué podría cambiar para hacer el código mas limpio?**"
      ]
    },
    {
      "cell_type": "code",
      "execution_count": null,
      "metadata": {
        "id": "486NOs44IWg2"
      },
      "outputs": [],
      "source": [
        "import time\n",
        "\n",
        "i = \"path_image\"\n",
        "\n",
        "t = end_time - start # calcula el tiempo de ejecucion\n",
        "c = classify(i) # obtiene la clase de la imagen\n",
        "print(\"La duracion fue de {} segundos. La clase es {}\".format(t, c))"
      ]
    },
    {
      "cell_type": "markdown",
      "metadata": {
        "id": "uJxx-4m9JXx8"
      },
      "source": [
        "**Solucion**\n",
        "(Escriba aquí su solución)"
      ]
    },
    {
      "cell_type": "markdown",
      "metadata": {
        "id": "fWXwkuEeMPKh"
      },
      "source": [
        "### 5.2 Compra de criptomonedas\n",
        "Imagina que has creado un bot para comprar criptomonedas automaticamente. Este bot te ayuda a calcular el precio ideal, o precio limite en el cual tu decides comprar cada moneda. El funcionamiento de tu programa es sencillo: iteras cada una de las criptomonedas y el programa compra si el precio es menor o igual que el limite calculado. Si no cumple con la condicion, lo dejas en la lista de espera.\n",
        "\n",
        "**¿Cuál de los siguiente pedazos de código es el mas limpio?**"
      ]
    },
    {
      "cell_type": "code",
      "execution_count": null,
      "metadata": {
        "id": "TSnznrsmJWxW"
      },
      "outputs": [],
      "source": [
        "# Opcion A\n",
        "crypto_limit_prices = {'BTC': 44000, 'ETH': 31000, 'BNB': 410}\n",
        "for crypto_ticker, crypto_limit_price in buy_prices.items():\n",
        "    if crypto_limit_price <= get_current_crypto_price(ticker):\n",
        "        buy_crypto(ticker)\n",
        "    else:\n",
        "        watchlist_crypto(ticker)\n",
        "\n",
        "# Opcion B\n",
        "prices = {'BTC': 44000, 'ETH': 31000, 'BNB': 410}\n",
        "for ticker, price in prices.items():\n",
        "    if price <= current_price(ticker):\n",
        "        buy(ticker)\n",
        "    else:\n",
        "        watchlist(ticker)\n",
        "\n",
        "# Opcion C\n",
        "limit_prices = {'BTC': 44000, 'ETH': 31000, 'BNB': 410}\n",
        "for ticker, limit in limit_prices.items():\n",
        "    if limit <= get_current_price(ticker):\n",
        "        buy(ticker)\n",
        "    else:\n",
        "        watchlist(ticker)"
      ]
    },
    {
      "cell_type": "markdown",
      "metadata": {
        "id": "4gxaRfk-OZOB"
      },
      "source": [
        "**Solución** (Escriba aquí su solución)\n",
        "\n"
      ]
    },
    {
      "cell_type": "markdown",
      "metadata": {
        "id": "fPOyt6NFQmcV"
      },
      "source": [
        "# 6 - Escribiendo código modular"
      ]
    },
    {
      "cell_type": "markdown",
      "metadata": {
        "id": "GbajugejQpPR"
      },
      "source": [
        "### 6.1 DRY (Don't Repeat Yourself)\n",
        "\n",
        "Las cosas en el código, el conocimiento, tienen que definirse una sola vez y en un solo lugar. Cuando tenga que realizar un cambio en el código, solo debe haber una ubicación legítima para modificar.\n"
      ]
    },
    {
      "cell_type": "markdown",
      "metadata": {
        "id": "Gw11w6HBRAaL"
      },
      "source": [
        "### 6.2 Sugerencia: abstraiga la lógica para mejorar la legibilidad\n",
        "\n",
        "La abstracción consiste en aislar un elemento de su contexto o del resto de los elementos que lo acompañan.\n",
        "\n",
        "Abstraer el código en una función no solo lo hace menos repetitivo, sino que también mejora la legibilidad con nombres de funciones descriptivos. Aunque el código puede volverse más legible cuando abstrae la lógica en funciones, es posible sobrediseñar esto y tener demasiados módulos, así que use su criterio.\n",
        "\n",
        "\n"
      ]
    },
    {
      "cell_type": "markdown",
      "metadata": {
        "id": "h1uF07DLfdR6"
      },
      "source": [
        "### 6.3 Sugerencia: minimice la cantidad de entidades (funciones, clases, módulos, etc.)\n",
        "Hay ventajas y desventajas de tener llamadas de función en lugar de lógica en línea. Si ha dividido su código en una cantidad innecesaria de funciones y módulos, tendrá que saltar de un lado a otro si desea ver los detalles de implementación de algo que puede ser demasiado pequeño para valer la pena. Crear más módulos no siempre resulta en una modularización efectiva."
      ]
    },
    {
      "cell_type": "markdown",
      "metadata": {
        "id": "5Ol9nMAQfrTI"
      },
      "source": [
        "### 6.4 Cohesion\n",
        "\n",
        "Cohesión significa que los objetos deben tener un propósito pequeño y bien definido, y deben hacer lo menos posible. Sigue una filosofía similar a los comandos de Unix que hacen una sola cosa y la hacen bien. Cuanto más cohesivos son nuestros objetos, más útiles y reutilizables se vuelven, lo que hace que nuestro diseño sea mejor.\n"
      ]
    },
    {
      "cell_type": "markdown",
      "metadata": {
        "id": "68b80O9biuMi"
      },
      "source": [
        "### 6.5 Sugerencia: trate de usar menos de tres argumentos por función\n",
        "\n",
        "Trate de usar no más de tres argumentos cuando sea posible. Esta no es una regla estricta y hay momentos en los que es más apropiado usar muchos parámetros. Pero en muchos casos, es más efectivo usar menos argumentos. Recuerde que estamos modularizando para simplificar nuestro código y hacerlo más eficiente. Si su función tiene muchos parámetros, es posible que desee repensar cómo está dividiendo esto."
      ]
    },
    {
      "cell_type": "markdown",
      "metadata": {
        "id": "5Bv2hvPClHO3"
      },
      "source": [
        "### 6.4 Ejemplo: Calculando y elevando numeros"
      ]
    },
    {
      "cell_type": "code",
      "execution_count": null,
      "metadata": {
        "colab": {
          "base_uri": "https://localhost:8080/"
        },
        "id": "VXWNnr9bPr7q",
        "outputId": "a367131c-2dd6-45ce-c41d-a32631f7b643"
      },
      "outputs": [
        {
          "name": "stdout",
          "output_type": "stream",
          "text": [
            "61.4\n",
            "4295.4\n",
            "333612.2\n",
            "7.700983575877444\n"
          ]
        }
      ],
      "source": [
        "# Spaguetti Code\n",
        "d = [34, 45, 76, 54, 98]\n",
        "print(sum(d)/len(d))\n",
        "\n",
        "d1 = []\n",
        "for x in d:\n",
        "  d1.append(x ** 2)\n",
        "\n",
        "print(sum(d1)/len(d1))\n",
        "\n",
        "d2 = []\n",
        "for x in d:\n",
        "  d2.append(x ** 3)\n",
        "\n",
        "print(sum(d2)/len(d2))\n",
        "\n",
        "d3 = []\n",
        "for x in d:\n",
        "  d3.append(x ** 0.5)\n",
        "\n",
        "print(sum(d3)/len(d3))"
      ]
    },
    {
      "cell_type": "markdown",
      "metadata": {
        "id": "G4Oz0X6UpNtL"
      },
      "source": [
        "Mejorando el codigo con mejores nombres y uso de funciones bibliotecas."
      ]
    },
    {
      "cell_type": "code",
      "execution_count": null,
      "metadata": {
        "colab": {
          "base_uri": "https://localhost:8080/"
        },
        "id": "KIPCukKJlWe_",
        "outputId": "c62e4345-20bf-4b28-9afd-962a5e58cef8"
      },
      "outputs": [
        {
          "name": "stdout",
          "output_type": "stream",
          "text": [
            "61.4\n",
            "4295.4\n",
            "333612.2\n",
            "7.700983575877444\n"
          ]
        }
      ],
      "source": [
        "import math\n",
        "import numpy as np\n",
        "\n",
        "data_train = [34, 45, 76, 54, 98]\n",
        "print(np.mean(data_train))\n",
        "\n",
        "powered_2 = [math.pow(number, 2) for number in data_train]\n",
        "print(np.mean(powered_2))\n",
        "\n",
        "powered_3 = [math.pow(number, 3) for number in data_train]\n",
        "print(np.mean(powered_3))\n",
        "\n",
        "data_sqrt = [math.sqrt(number) for number in data_train]\n",
        "print(np.mean(data_sqrt))"
      ]
    },
    {
      "cell_type": "markdown",
      "metadata": {
        "id": "heZpNa0M8LLx"
      },
      "source": [
        "Generalizando funciones y reduciendo lineas de codigo"
      ]
    },
    {
      "cell_type": "code",
      "execution_count": null,
      "metadata": {
        "colab": {
          "base_uri": "https://localhost:8080/"
        },
        "id": "U5z71r1h8dKr",
        "outputId": "13c45740-e4f1-4b72-cc9e-3cfc9e7747e2"
      },
      "outputs": [
        {
          "name": "stdout",
          "output_type": "stream",
          "text": [
            "61.4\n",
            "4295.4\n",
            "333612.2\n",
            "7.700983575877444\n"
          ]
        }
      ],
      "source": [
        "import math\n",
        "import numpy as np\n",
        "\n",
        "def power_data(arr: list, n: int) -> list:\n",
        "  return [math.pow(i,n) for i in arr]\n",
        "\n",
        "def square_root(arr):\n",
        "  return [math.sqrt(i) for i in arr]\n",
        "\n",
        "data_train = [34, 45, 76, 54, 98]\n",
        "powered_2 = power_data(data_train, 2)\n",
        "powered_3 = power_data(data_train, 3)\n",
        "data_sqrt = square_root(data_train)\n",
        "\n",
        "for calculated_list in data_train, powered_2, powered_3, data_sqrt:\n",
        "  print(np.mean(calculated_list))"
      ]
    },
    {
      "cell_type": "markdown",
      "metadata": {
        "id": "8v1pklJY6VkL"
      },
      "source": [
        "### 6.5 Midiendo tiempos de ejecucion\n",
        "**¿Qué es Python Timeit()?**\n",
        "\n",
        "Python `timeit()` es un método en la biblioteca de Python para medir el tiempo de ejecución tomado por el fragmento de código dado. La biblioteca de Python ejecuta la declaración de código 1 millón de veces y proporciona el tiempo mínimo necesario para el conjunto dado de fragmentos de código. Python `timeit()` es un método útil que ayuda a comprobar el rendimiento del código.\n",
        "\n",
        "**Uso**\n",
        "\n",
        "1. Escribir el codigo dentro de una funcion\n",
        "2. Usar el `python -m timeit -n 1000 -s 'importar codigo y funcion'`\n",
        "  * -n 1000 : la cantidad de veces que desea que se repita la función timeit(), 1000 veces en este caso.\n",
        "  * -s '...' : esto tendrá detalles de configuración que se ejecutarán antes de la ejecución del código.\n",
        "3. Ejecutar el codigo y ver resultados.\n"
      ]
    },
    {
      "cell_type": "code",
      "execution_count": null,
      "metadata": {
        "colab": {
          "base_uri": "https://localhost:8080/"
        },
        "id": "u2jIg7IR2_6E",
        "outputId": "85dd523f-f243-400e-9df6-972a42d63941"
      },
      "outputs": [
        {
          "name": "stdout",
          "output_type": "stream",
          "text": [
            "Writing spaguetti_code.py\n"
          ]
        }
      ],
      "source": [
        "%%writefile spaguetti_code.py\n",
        "# Spaguetti Code\n",
        "def process_data():\n",
        "  d = [34, 45, 76, 54, 98]\n",
        "\n",
        "  d1 = []\n",
        "  for x in d:\n",
        "    d1.append(x ** 2)\n",
        "  d2 = []\n",
        "  for x in d:\n",
        "    d2.append(x ** 3)\n",
        "\n",
        "  d3 = []\n",
        "  for x in d:\n",
        "    d3.append(x ** 0.5)"
      ]
    },
    {
      "cell_type": "code",
      "execution_count": null,
      "metadata": {
        "colab": {
          "base_uri": "https://localhost:8080/"
        },
        "id": "3RBX3nzA3MCs",
        "outputId": "ef1036ef-b2ff-448d-bd15-319a87848e2a"
      },
      "outputs": [
        {
          "name": "stdout",
          "output_type": "stream",
          "text": [
            "1000 loops, best of 5: 4.06 usec per loop\n"
          ]
        }
      ],
      "source": [
        "!python -mtimeit -n 1000 -s'import spaguetti_code' 'spaguetti_code.process_data()'"
      ]
    },
    {
      "cell_type": "code",
      "execution_count": null,
      "metadata": {
        "colab": {
          "base_uri": "https://localhost:8080/"
        },
        "id": "7PVPq37hqhgr",
        "outputId": "18afe42c-adfd-4862-8113-f0edec96f030"
      },
      "outputs": [
        {
          "name": "stdout",
          "output_type": "stream",
          "text": [
            "Writing little_better.py\n"
          ]
        }
      ],
      "source": [
        "%%writefile little_better.py\n",
        "import math\n",
        "import numpy as np\n",
        "\n",
        "def process_data():\n",
        "  data_train = [34, 45, 76, 54, 98]\n",
        "  powered_2 = [math.pow(number, 2) for number in data_train]\n",
        "  powered_3 = [math.pow(number, 3) for number in data_train]\n",
        "  data_sqrt = [math.sqrt(number) for number in data_train]"
      ]
    },
    {
      "cell_type": "code",
      "execution_count": null,
      "metadata": {
        "colab": {
          "base_uri": "https://localhost:8080/"
        },
        "id": "UEEIhvVu2ijm",
        "outputId": "1ec876d8-85d7-4805-e022-77bbdac478cb"
      },
      "outputs": [
        {
          "name": "stdout",
          "output_type": "stream",
          "text": [
            "1000 loops, best of 5: 3.34 usec per loop\n"
          ]
        }
      ],
      "source": [
        "!python -mtimeit -n 1000 -s'import little_better' 'little_better.process_data()'"
      ]
    },
    {
      "cell_type": "code",
      "execution_count": null,
      "metadata": {
        "colab": {
          "base_uri": "https://localhost:8080/"
        },
        "id": "hok6XYe4-wqc",
        "outputId": "bcee3c67-abe9-4eb0-a25d-9c691179111a"
      },
      "outputs": [
        {
          "name": "stdout",
          "output_type": "stream",
          "text": [
            "Writing better.py\n"
          ]
        }
      ],
      "source": [
        "%%writefile better.py\n",
        "import math\n",
        "import numpy as np\n",
        "\n",
        "def power_data(arr, n):\n",
        "  return [math.pow(i,n) for i in arr]\n",
        "\n",
        "def square_root(arr):\n",
        "  return [math.sqrt(i) for i in arr]\n",
        "\n",
        "def process_data():\n",
        "  data_train = [34, 45, 76, 54, 98]\n",
        "  powered_2 = power_data(data_train, 2)\n",
        "  powered_3 = power_data(data_train, 3)\n",
        "  data_sqrt = square_root(data_train)"
      ]
    },
    {
      "cell_type": "code",
      "execution_count": null,
      "metadata": {
        "colab": {
          "base_uri": "https://localhost:8080/"
        },
        "id": "v-BTp9e-_wO8",
        "outputId": "25cc6db9-9865-4bd1-eb07-7f6f52bee38a"
      },
      "outputs": [
        {
          "name": "stdout",
          "output_type": "stream",
          "text": [
            "1000 loops, best of 5: 3.74 usec per loop\n"
          ]
        }
      ],
      "source": [
        "!python -mtimeit -n 1000 -s'import better' 'better.process_data()'"
      ]
    },
    {
      "cell_type": "markdown",
      "metadata": {
        "id": "saDtRuxrE6NS"
      },
      "source": [
        "**¿Por que el codigo con funciones es mas lento?**\n",
        "\n",
        "Las llamadas a funciones pueden ser extremadamente perjudiciales. Hay que ponerlas en los lugares correctos.\n",
        "\n",
        "Pero al mismo tiempo, no tener llamadas a funciones puede hacer que el código no se pueda mantener. Eso tampoco vale la pena. Si se encuentra en una situación en la que debe tener una llamada de función para facilitar la lectura, pero realmente no puede pagar la sobrecarga de la llamada, entonces está buscando una función en línea."
      ]
    },
    {
      "cell_type": "markdown",
      "metadata": {
        "id": "hu-nXncSBXAQ"
      },
      "source": [
        "**Nota**\n",
        "\n",
        "Cuando define una función, Python crea un objeto de función y le asigna un nombre. Este funcionamiento está oculto detrás de la sentencia `def`, pero funciona igual que la instanciación de cualquier otro tipo. Lo que significa que en Python, las definiciones de funciones se ejecutan, a diferencia de otros lenguajes.\n",
        "\n",
        "Entre otras cosas, esto significa que las funciones no existen hasta que el flujo de código las alcanza, por lo que no puede llamar a una función antes de que se haya definido.\n",
        "\n"
      ]
    },
    {
      "cell_type": "markdown",
      "metadata": {
        "id": "ool4WsReuv47"
      },
      "source": [
        "# 7 - Quiz practico de codigo limpio y modular\n",
        "En este ejercicio, se debe refactorizar el código que analiza un conjunto de datos de absentismo en el trabajo [aqui](https://archive.ics.uci.edu/ml/datasets/Absenteeism+at+work). Cada fila contiene datos sobre una muestra de absentismo.\n",
        "\n",
        "El código de este cuaderno primero cambia el nombre de las columnas del conjunto de datos.\n",
        "\n",
        "¿Puede refactorizar este código para hacerlo más limpio y modular?"
      ]
    },
    {
      "cell_type": "code",
      "execution_count": null,
      "metadata": {
        "colab": {
          "base_uri": "https://localhost:8080/",
          "height": 351
        },
        "id": "YVEzu9YoBWbr",
        "outputId": "643cd5af-aaf2-4272-e01e-12a6cde96db7"
      },
      "outputs": [
        {
          "data": {
            "text/html": [
              "\n",
              "  <div id=\"df-3f128282-d0fb-4b39-a9a1-1759faa6f9ee\">\n",
              "    <div class=\"colab-df-container\">\n",
              "      <div>\n",
              "<style scoped>\n",
              "    .dataframe tbody tr th:only-of-type {\n",
              "        vertical-align: middle;\n",
              "    }\n",
              "\n",
              "    .dataframe tbody tr th {\n",
              "        vertical-align: top;\n",
              "    }\n",
              "\n",
              "    .dataframe thead th {\n",
              "        text-align: right;\n",
              "    }\n",
              "</style>\n",
              "<table border=\"1\" class=\"dataframe\">\n",
              "  <thead>\n",
              "    <tr style=\"text-align: right;\">\n",
              "      <th></th>\n",
              "      <th>ID</th>\n",
              "      <th>Reason for absence</th>\n",
              "      <th>Month of absence</th>\n",
              "      <th>Day of the week</th>\n",
              "      <th>Seasons</th>\n",
              "      <th>Transportation expense</th>\n",
              "      <th>Distance from Residence to Work</th>\n",
              "      <th>Service time</th>\n",
              "      <th>Age</th>\n",
              "      <th>Work load Average/day</th>\n",
              "      <th>...</th>\n",
              "      <th>Disciplinary failure</th>\n",
              "      <th>Education</th>\n",
              "      <th>Son</th>\n",
              "      <th>Social drinker</th>\n",
              "      <th>Social smoker</th>\n",
              "      <th>Pet</th>\n",
              "      <th>Weight</th>\n",
              "      <th>Height</th>\n",
              "      <th>Body mass index</th>\n",
              "      <th>Absenteeism time in hours</th>\n",
              "    </tr>\n",
              "  </thead>\n",
              "  <tbody>\n",
              "    <tr>\n",
              "      <th>0</th>\n",
              "      <td>11</td>\n",
              "      <td>26</td>\n",
              "      <td>7</td>\n",
              "      <td>3</td>\n",
              "      <td>1</td>\n",
              "      <td>289</td>\n",
              "      <td>36</td>\n",
              "      <td>13</td>\n",
              "      <td>33</td>\n",
              "      <td>239.554</td>\n",
              "      <td>...</td>\n",
              "      <td>0</td>\n",
              "      <td>1</td>\n",
              "      <td>2</td>\n",
              "      <td>1</td>\n",
              "      <td>0</td>\n",
              "      <td>1</td>\n",
              "      <td>90</td>\n",
              "      <td>172</td>\n",
              "      <td>30</td>\n",
              "      <td>4</td>\n",
              "    </tr>\n",
              "    <tr>\n",
              "      <th>1</th>\n",
              "      <td>36</td>\n",
              "      <td>0</td>\n",
              "      <td>7</td>\n",
              "      <td>3</td>\n",
              "      <td>1</td>\n",
              "      <td>118</td>\n",
              "      <td>13</td>\n",
              "      <td>18</td>\n",
              "      <td>50</td>\n",
              "      <td>239.554</td>\n",
              "      <td>...</td>\n",
              "      <td>1</td>\n",
              "      <td>1</td>\n",
              "      <td>1</td>\n",
              "      <td>1</td>\n",
              "      <td>0</td>\n",
              "      <td>0</td>\n",
              "      <td>98</td>\n",
              "      <td>178</td>\n",
              "      <td>31</td>\n",
              "      <td>0</td>\n",
              "    </tr>\n",
              "    <tr>\n",
              "      <th>2</th>\n",
              "      <td>3</td>\n",
              "      <td>23</td>\n",
              "      <td>7</td>\n",
              "      <td>4</td>\n",
              "      <td>1</td>\n",
              "      <td>179</td>\n",
              "      <td>51</td>\n",
              "      <td>18</td>\n",
              "      <td>38</td>\n",
              "      <td>239.554</td>\n",
              "      <td>...</td>\n",
              "      <td>0</td>\n",
              "      <td>1</td>\n",
              "      <td>0</td>\n",
              "      <td>1</td>\n",
              "      <td>0</td>\n",
              "      <td>0</td>\n",
              "      <td>89</td>\n",
              "      <td>170</td>\n",
              "      <td>31</td>\n",
              "      <td>2</td>\n",
              "    </tr>\n",
              "    <tr>\n",
              "      <th>3</th>\n",
              "      <td>7</td>\n",
              "      <td>7</td>\n",
              "      <td>7</td>\n",
              "      <td>5</td>\n",
              "      <td>1</td>\n",
              "      <td>279</td>\n",
              "      <td>5</td>\n",
              "      <td>14</td>\n",
              "      <td>39</td>\n",
              "      <td>239.554</td>\n",
              "      <td>...</td>\n",
              "      <td>0</td>\n",
              "      <td>1</td>\n",
              "      <td>2</td>\n",
              "      <td>1</td>\n",
              "      <td>1</td>\n",
              "      <td>0</td>\n",
              "      <td>68</td>\n",
              "      <td>168</td>\n",
              "      <td>24</td>\n",
              "      <td>4</td>\n",
              "    </tr>\n",
              "    <tr>\n",
              "      <th>4</th>\n",
              "      <td>11</td>\n",
              "      <td>23</td>\n",
              "      <td>7</td>\n",
              "      <td>5</td>\n",
              "      <td>1</td>\n",
              "      <td>289</td>\n",
              "      <td>36</td>\n",
              "      <td>13</td>\n",
              "      <td>33</td>\n",
              "      <td>239.554</td>\n",
              "      <td>...</td>\n",
              "      <td>0</td>\n",
              "      <td>1</td>\n",
              "      <td>2</td>\n",
              "      <td>1</td>\n",
              "      <td>0</td>\n",
              "      <td>1</td>\n",
              "      <td>90</td>\n",
              "      <td>172</td>\n",
              "      <td>30</td>\n",
              "      <td>2</td>\n",
              "    </tr>\n",
              "  </tbody>\n",
              "</table>\n",
              "<p>5 rows × 21 columns</p>\n",
              "</div>\n",
              "      <button class=\"colab-df-convert\" onclick=\"convertToInteractive('df-3f128282-d0fb-4b39-a9a1-1759faa6f9ee')\"\n",
              "              title=\"Convert this dataframe to an interactive table.\"\n",
              "              style=\"display:none;\">\n",
              "        \n",
              "  <svg xmlns=\"http://www.w3.org/2000/svg\" height=\"24px\"viewBox=\"0 0 24 24\"\n",
              "       width=\"24px\">\n",
              "    <path d=\"M0 0h24v24H0V0z\" fill=\"none\"/>\n",
              "    <path d=\"M18.56 5.44l.94 2.06.94-2.06 2.06-.94-2.06-.94-.94-2.06-.94 2.06-2.06.94zm-11 1L8.5 8.5l.94-2.06 2.06-.94-2.06-.94L8.5 2.5l-.94 2.06-2.06.94zm10 10l.94 2.06.94-2.06 2.06-.94-2.06-.94-.94-2.06-.94 2.06-2.06.94z\"/><path d=\"M17.41 7.96l-1.37-1.37c-.4-.4-.92-.59-1.43-.59-.52 0-1.04.2-1.43.59L10.3 9.45l-7.72 7.72c-.78.78-.78 2.05 0 2.83L4 21.41c.39.39.9.59 1.41.59.51 0 1.02-.2 1.41-.59l7.78-7.78 2.81-2.81c.8-.78.8-2.07 0-2.86zM5.41 20L4 18.59l7.72-7.72 1.47 1.35L5.41 20z\"/>\n",
              "  </svg>\n",
              "      </button>\n",
              "      \n",
              "  <style>\n",
              "    .colab-df-container {\n",
              "      display:flex;\n",
              "      flex-wrap:wrap;\n",
              "      gap: 12px;\n",
              "    }\n",
              "\n",
              "    .colab-df-convert {\n",
              "      background-color: #E8F0FE;\n",
              "      border: none;\n",
              "      border-radius: 50%;\n",
              "      cursor: pointer;\n",
              "      display: none;\n",
              "      fill: #1967D2;\n",
              "      height: 32px;\n",
              "      padding: 0 0 0 0;\n",
              "      width: 32px;\n",
              "    }\n",
              "\n",
              "    .colab-df-convert:hover {\n",
              "      background-color: #E2EBFA;\n",
              "      box-shadow: 0px 1px 2px rgba(60, 64, 67, 0.3), 0px 1px 3px 1px rgba(60, 64, 67, 0.15);\n",
              "      fill: #174EA6;\n",
              "    }\n",
              "\n",
              "    [theme=dark] .colab-df-convert {\n",
              "      background-color: #3B4455;\n",
              "      fill: #D2E3FC;\n",
              "    }\n",
              "\n",
              "    [theme=dark] .colab-df-convert:hover {\n",
              "      background-color: #434B5C;\n",
              "      box-shadow: 0px 1px 3px 1px rgba(0, 0, 0, 0.15);\n",
              "      filter: drop-shadow(0px 1px 2px rgba(0, 0, 0, 0.3));\n",
              "      fill: #FFFFFF;\n",
              "    }\n",
              "  </style>\n",
              "\n",
              "      <script>\n",
              "        const buttonEl =\n",
              "          document.querySelector('#df-3f128282-d0fb-4b39-a9a1-1759faa6f9ee button.colab-df-convert');\n",
              "        buttonEl.style.display =\n",
              "          google.colab.kernel.accessAllowed ? 'block' : 'none';\n",
              "\n",
              "        async function convertToInteractive(key) {\n",
              "          const element = document.querySelector('#df-3f128282-d0fb-4b39-a9a1-1759faa6f9ee');\n",
              "          const dataTable =\n",
              "            await google.colab.kernel.invokeFunction('convertToInteractive',\n",
              "                                                     [key], {});\n",
              "          if (!dataTable) return;\n",
              "\n",
              "          const docLinkHtml = 'Like what you see? Visit the ' +\n",
              "            '<a target=\"_blank\" href=https://colab.research.google.com/notebooks/data_table.ipynb>data table notebook</a>'\n",
              "            + ' to learn more about interactive tables.';\n",
              "          element.innerHTML = '';\n",
              "          dataTable['output_type'] = 'display_data';\n",
              "          await google.colab.output.renderOutput(dataTable, element);\n",
              "          const docLink = document.createElement('div');\n",
              "          docLink.innerHTML = docLinkHtml;\n",
              "          element.appendChild(docLink);\n",
              "        }\n",
              "      </script>\n",
              "    </div>\n",
              "  </div>\n",
              "  "
            ],
            "text/plain": [
              "   ID  Reason for absence  Month of absence  Day of the week  Seasons  \\\n",
              "0  11                  26                 7                3        1   \n",
              "1  36                   0                 7                3        1   \n",
              "2   3                  23                 7                4        1   \n",
              "3   7                   7                 7                5        1   \n",
              "4  11                  23                 7                5        1   \n",
              "\n",
              "   Transportation expense  Distance from Residence to Work  Service time  Age  \\\n",
              "0                     289                               36            13   33   \n",
              "1                     118                               13            18   50   \n",
              "2                     179                               51            18   38   \n",
              "3                     279                                5            14   39   \n",
              "4                     289                               36            13   33   \n",
              "\n",
              "   Work load Average/day   ...  Disciplinary failure  Education  Son  \\\n",
              "0                 239.554  ...                     0          1    2   \n",
              "1                 239.554  ...                     1          1    1   \n",
              "2                 239.554  ...                     0          1    0   \n",
              "3                 239.554  ...                     0          1    2   \n",
              "4                 239.554  ...                     0          1    2   \n",
              "\n",
              "   Social drinker  Social smoker  Pet  Weight  Height  Body mass index  \\\n",
              "0               1              0    1      90     172               30   \n",
              "1               1              0    0      98     178               31   \n",
              "2               1              0    0      89     170               31   \n",
              "3               1              1    0      68     168               24   \n",
              "4               1              0    1      90     172               30   \n",
              "\n",
              "   Absenteeism time in hours  \n",
              "0                          4  \n",
              "1                          0  \n",
              "2                          2  \n",
              "3                          4  \n",
              "4                          2  \n",
              "\n",
              "[5 rows x 21 columns]"
            ]
          },
          "execution_count": 22,
          "metadata": {},
          "output_type": "execute_result"
        }
      ],
      "source": [
        "import pandas as pd\n",
        "df = pd.read_csv('/content/Absenteeism_at_work.csv', sep=';')\n",
        "df.head()"
      ]
    },
    {
      "cell_type": "markdown",
      "metadata": {
        "id": "JDAGqzOkwt0I"
      },
      "source": [
        "## 7.1 - Renombrando columnas\n",
        "El objetivo es convertir las columnas en minúsculas y reemplazar los espacios en blanco o caracteres extraños en las etiquetas de las columnas con guiones bajos."
      ]
    },
    {
      "cell_type": "code",
      "execution_count": null,
      "metadata": {
        "colab": {
          "base_uri": "https://localhost:8080/",
          "height": 299
        },
        "id": "3GGDpyZRxdtT",
        "outputId": "1905f60d-c837-4db3-df23-341e2373c685"
      },
      "outputs": [
        {
          "data": {
            "text/html": [
              "\n",
              "  <div id=\"df-587cb7fa-b71f-4b0f-ab5c-b222214116ff\">\n",
              "    <div class=\"colab-df-container\">\n",
              "      <div>\n",
              "<style scoped>\n",
              "    .dataframe tbody tr th:only-of-type {\n",
              "        vertical-align: middle;\n",
              "    }\n",
              "\n",
              "    .dataframe tbody tr th {\n",
              "        vertical-align: top;\n",
              "    }\n",
              "\n",
              "    .dataframe thead th {\n",
              "        text-align: right;\n",
              "    }\n",
              "</style>\n",
              "<table border=\"1\" class=\"dataframe\">\n",
              "  <thead>\n",
              "    <tr style=\"text-align: right;\">\n",
              "      <th></th>\n",
              "      <th>id</th>\n",
              "      <th>reason_for_absence</th>\n",
              "      <th>month_of_absence</th>\n",
              "      <th>day_of_the_week</th>\n",
              "      <th>seasons</th>\n",
              "      <th>transportation_expense</th>\n",
              "      <th>distance_from_residence_to_work</th>\n",
              "      <th>service_time</th>\n",
              "      <th>age</th>\n",
              "      <th>work_load_average/day_</th>\n",
              "      <th>...</th>\n",
              "      <th>disciplinary_failure</th>\n",
              "      <th>education</th>\n",
              "      <th>son</th>\n",
              "      <th>social_drinker</th>\n",
              "      <th>social_smoker</th>\n",
              "      <th>pet</th>\n",
              "      <th>weight</th>\n",
              "      <th>height</th>\n",
              "      <th>body_mass_index</th>\n",
              "      <th>absenteeism_time_in_hours</th>\n",
              "    </tr>\n",
              "  </thead>\n",
              "  <tbody>\n",
              "    <tr>\n",
              "      <th>0</th>\n",
              "      <td>11</td>\n",
              "      <td>26</td>\n",
              "      <td>7</td>\n",
              "      <td>3</td>\n",
              "      <td>1</td>\n",
              "      <td>289</td>\n",
              "      <td>36</td>\n",
              "      <td>13</td>\n",
              "      <td>33</td>\n",
              "      <td>239.554</td>\n",
              "      <td>...</td>\n",
              "      <td>0</td>\n",
              "      <td>1</td>\n",
              "      <td>2</td>\n",
              "      <td>1</td>\n",
              "      <td>0</td>\n",
              "      <td>1</td>\n",
              "      <td>90</td>\n",
              "      <td>172</td>\n",
              "      <td>30</td>\n",
              "      <td>4</td>\n",
              "    </tr>\n",
              "    <tr>\n",
              "      <th>1</th>\n",
              "      <td>36</td>\n",
              "      <td>0</td>\n",
              "      <td>7</td>\n",
              "      <td>3</td>\n",
              "      <td>1</td>\n",
              "      <td>118</td>\n",
              "      <td>13</td>\n",
              "      <td>18</td>\n",
              "      <td>50</td>\n",
              "      <td>239.554</td>\n",
              "      <td>...</td>\n",
              "      <td>1</td>\n",
              "      <td>1</td>\n",
              "      <td>1</td>\n",
              "      <td>1</td>\n",
              "      <td>0</td>\n",
              "      <td>0</td>\n",
              "      <td>98</td>\n",
              "      <td>178</td>\n",
              "      <td>31</td>\n",
              "      <td>0</td>\n",
              "    </tr>\n",
              "    <tr>\n",
              "      <th>2</th>\n",
              "      <td>3</td>\n",
              "      <td>23</td>\n",
              "      <td>7</td>\n",
              "      <td>4</td>\n",
              "      <td>1</td>\n",
              "      <td>179</td>\n",
              "      <td>51</td>\n",
              "      <td>18</td>\n",
              "      <td>38</td>\n",
              "      <td>239.554</td>\n",
              "      <td>...</td>\n",
              "      <td>0</td>\n",
              "      <td>1</td>\n",
              "      <td>0</td>\n",
              "      <td>1</td>\n",
              "      <td>0</td>\n",
              "      <td>0</td>\n",
              "      <td>89</td>\n",
              "      <td>170</td>\n",
              "      <td>31</td>\n",
              "      <td>2</td>\n",
              "    </tr>\n",
              "    <tr>\n",
              "      <th>3</th>\n",
              "      <td>7</td>\n",
              "      <td>7</td>\n",
              "      <td>7</td>\n",
              "      <td>5</td>\n",
              "      <td>1</td>\n",
              "      <td>279</td>\n",
              "      <td>5</td>\n",
              "      <td>14</td>\n",
              "      <td>39</td>\n",
              "      <td>239.554</td>\n",
              "      <td>...</td>\n",
              "      <td>0</td>\n",
              "      <td>1</td>\n",
              "      <td>2</td>\n",
              "      <td>1</td>\n",
              "      <td>1</td>\n",
              "      <td>0</td>\n",
              "      <td>68</td>\n",
              "      <td>168</td>\n",
              "      <td>24</td>\n",
              "      <td>4</td>\n",
              "    </tr>\n",
              "    <tr>\n",
              "      <th>4</th>\n",
              "      <td>11</td>\n",
              "      <td>23</td>\n",
              "      <td>7</td>\n",
              "      <td>5</td>\n",
              "      <td>1</td>\n",
              "      <td>289</td>\n",
              "      <td>36</td>\n",
              "      <td>13</td>\n",
              "      <td>33</td>\n",
              "      <td>239.554</td>\n",
              "      <td>...</td>\n",
              "      <td>0</td>\n",
              "      <td>1</td>\n",
              "      <td>2</td>\n",
              "      <td>1</td>\n",
              "      <td>0</td>\n",
              "      <td>1</td>\n",
              "      <td>90</td>\n",
              "      <td>172</td>\n",
              "      <td>30</td>\n",
              "      <td>2</td>\n",
              "    </tr>\n",
              "  </tbody>\n",
              "</table>\n",
              "<p>5 rows × 21 columns</p>\n",
              "</div>\n",
              "      <button class=\"colab-df-convert\" onclick=\"convertToInteractive('df-587cb7fa-b71f-4b0f-ab5c-b222214116ff')\"\n",
              "              title=\"Convert this dataframe to an interactive table.\"\n",
              "              style=\"display:none;\">\n",
              "        \n",
              "  <svg xmlns=\"http://www.w3.org/2000/svg\" height=\"24px\"viewBox=\"0 0 24 24\"\n",
              "       width=\"24px\">\n",
              "    <path d=\"M0 0h24v24H0V0z\" fill=\"none\"/>\n",
              "    <path d=\"M18.56 5.44l.94 2.06.94-2.06 2.06-.94-2.06-.94-.94-2.06-.94 2.06-2.06.94zm-11 1L8.5 8.5l.94-2.06 2.06-.94-2.06-.94L8.5 2.5l-.94 2.06-2.06.94zm10 10l.94 2.06.94-2.06 2.06-.94-2.06-.94-.94-2.06-.94 2.06-2.06.94z\"/><path d=\"M17.41 7.96l-1.37-1.37c-.4-.4-.92-.59-1.43-.59-.52 0-1.04.2-1.43.59L10.3 9.45l-7.72 7.72c-.78.78-.78 2.05 0 2.83L4 21.41c.39.39.9.59 1.41.59.51 0 1.02-.2 1.41-.59l7.78-7.78 2.81-2.81c.8-.78.8-2.07 0-2.86zM5.41 20L4 18.59l7.72-7.72 1.47 1.35L5.41 20z\"/>\n",
              "  </svg>\n",
              "      </button>\n",
              "      \n",
              "  <style>\n",
              "    .colab-df-container {\n",
              "      display:flex;\n",
              "      flex-wrap:wrap;\n",
              "      gap: 12px;\n",
              "    }\n",
              "\n",
              "    .colab-df-convert {\n",
              "      background-color: #E8F0FE;\n",
              "      border: none;\n",
              "      border-radius: 50%;\n",
              "      cursor: pointer;\n",
              "      display: none;\n",
              "      fill: #1967D2;\n",
              "      height: 32px;\n",
              "      padding: 0 0 0 0;\n",
              "      width: 32px;\n",
              "    }\n",
              "\n",
              "    .colab-df-convert:hover {\n",
              "      background-color: #E2EBFA;\n",
              "      box-shadow: 0px 1px 2px rgba(60, 64, 67, 0.3), 0px 1px 3px 1px rgba(60, 64, 67, 0.15);\n",
              "      fill: #174EA6;\n",
              "    }\n",
              "\n",
              "    [theme=dark] .colab-df-convert {\n",
              "      background-color: #3B4455;\n",
              "      fill: #D2E3FC;\n",
              "    }\n",
              "\n",
              "    [theme=dark] .colab-df-convert:hover {\n",
              "      background-color: #434B5C;\n",
              "      box-shadow: 0px 1px 3px 1px rgba(0, 0, 0, 0.15);\n",
              "      filter: drop-shadow(0px 1px 2px rgba(0, 0, 0, 0.3));\n",
              "      fill: #FFFFFF;\n",
              "    }\n",
              "  </style>\n",
              "\n",
              "      <script>\n",
              "        const buttonEl =\n",
              "          document.querySelector('#df-587cb7fa-b71f-4b0f-ab5c-b222214116ff button.colab-df-convert');\n",
              "        buttonEl.style.display =\n",
              "          google.colab.kernel.accessAllowed ? 'block' : 'none';\n",
              "\n",
              "        async function convertToInteractive(key) {\n",
              "          const element = document.querySelector('#df-587cb7fa-b71f-4b0f-ab5c-b222214116ff');\n",
              "          const dataTable =\n",
              "            await google.colab.kernel.invokeFunction('convertToInteractive',\n",
              "                                                     [key], {});\n",
              "          if (!dataTable) return;\n",
              "\n",
              "          const docLinkHtml = 'Like what you see? Visit the ' +\n",
              "            '<a target=\"_blank\" href=https://colab.research.google.com/notebooks/data_table.ipynb>data table notebook</a>'\n",
              "            + ' to learn more about interactive tables.';\n",
              "          element.innerHTML = '';\n",
              "          dataTable['output_type'] = 'display_data';\n",
              "          await google.colab.output.renderOutput(dataTable, element);\n",
              "          const docLink = document.createElement('div');\n",
              "          docLink.innerHTML = docLinkHtml;\n",
              "          element.appendChild(docLink);\n",
              "        }\n",
              "      </script>\n",
              "    </div>\n",
              "  </div>\n",
              "  "
            ],
            "text/plain": [
              "   id  reason_for_absence  month_of_absence  day_of_the_week  seasons  \\\n",
              "0  11                  26                 7                3        1   \n",
              "1  36                   0                 7                3        1   \n",
              "2   3                  23                 7                4        1   \n",
              "3   7                   7                 7                5        1   \n",
              "4  11                  23                 7                5        1   \n",
              "\n",
              "   transportation_expense  distance_from_residence_to_work  service_time  age  \\\n",
              "0                     289                               36            13   33   \n",
              "1                     118                               13            18   50   \n",
              "2                     179                               51            18   38   \n",
              "3                     279                                5            14   39   \n",
              "4                     289                               36            13   33   \n",
              "\n",
              "   work_load_average/day_  ...  disciplinary_failure  education  son  \\\n",
              "0                 239.554  ...                     0          1    2   \n",
              "1                 239.554  ...                     1          1    1   \n",
              "2                 239.554  ...                     0          1    0   \n",
              "3                 239.554  ...                     0          1    2   \n",
              "4                 239.554  ...                     0          1    2   \n",
              "\n",
              "   social_drinker  social_smoker  pet  weight  height  body_mass_index  \\\n",
              "0               1              0    1      90     172               30   \n",
              "1               1              0    0      98     178               31   \n",
              "2               1              0    0      89     170               31   \n",
              "3               1              1    0      68     168               24   \n",
              "4               1              0    1      90     172               30   \n",
              "\n",
              "   absenteeism_time_in_hours  \n",
              "0                          4  \n",
              "1                          0  \n",
              "2                          2  \n",
              "3                          4  \n",
              "4                          2  \n",
              "\n",
              "[5 rows x 21 columns]"
            ]
          },
          "execution_count": 17,
          "metadata": {},
          "output_type": "execute_result"
        }
      ],
      "source": [
        "new_df = df.rename(columns={'ID': 'id',\n",
        "                            'Reason for absence': 'reason_for_absence',\n",
        "                            'Month of absence': 'month_of_absence',\n",
        "                            'Day of the week': 'day_of_the_week',\n",
        "                            'Seasons': 'seasons',\n",
        "                            'Transportation expense': 'transportation_expense',\n",
        "                            'Distance from Residence to Work': 'distance_from_residence_to_work',\n",
        "                            'Service time': 'service_time',\n",
        "                            'Age': 'age',\n",
        "                            'Work load Average/day ': 'work_load_average/day_',\n",
        "                            'Hit target': 'hit_target',\n",
        "                            'Disciplinary failure': 'disciplinary_failure',\n",
        "                            'Education': 'education',\n",
        "                            'Son': 'son',\n",
        "                            'Social drinker': 'social_drinker',\n",
        "                            'Social smoker': 'social_smoker',\n",
        "                            'Pet': 'pet',\n",
        "                            'Weight': 'weight',\n",
        "                            'Height': 'height',\n",
        "                            'Body mass index': 'body_mass_index',\n",
        "                            'Absenteeism time in hours': 'absenteeism_time_in_hours'\n",
        "                            })\n",
        "new_df.head()"
      ]
    },
    {
      "cell_type": "markdown",
      "metadata": {
        "id": "PnfAfjwMxh70"
      },
      "source": [
        "Esta es otra forma un poco mejor que evita que se tengan problemas con letras o errores tipograficos."
      ]
    },
    {
      "cell_type": "code",
      "execution_count": null,
      "metadata": {
        "colab": {
          "base_uri": "https://localhost:8080/",
          "height": 299
        },
        "id": "b3L3EyJxxrs4",
        "outputId": "f9a1e99e-a3ea-4994-baee-4854fe1c46f2"
      },
      "outputs": [
        {
          "data": {
            "text/html": [
              "\n",
              "  <div id=\"df-78152f76-bdd4-468c-9380-23f69e5590dd\">\n",
              "    <div class=\"colab-df-container\">\n",
              "      <div>\n",
              "<style scoped>\n",
              "    .dataframe tbody tr th:only-of-type {\n",
              "        vertical-align: middle;\n",
              "    }\n",
              "\n",
              "    .dataframe tbody tr th {\n",
              "        vertical-align: top;\n",
              "    }\n",
              "\n",
              "    .dataframe thead th {\n",
              "        text-align: right;\n",
              "    }\n",
              "</style>\n",
              "<table border=\"1\" class=\"dataframe\">\n",
              "  <thead>\n",
              "    <tr style=\"text-align: right;\">\n",
              "      <th></th>\n",
              "      <th>id</th>\n",
              "      <th>reason_for_absence</th>\n",
              "      <th>month_of_absence</th>\n",
              "      <th>day_of_the_week</th>\n",
              "      <th>Seasons</th>\n",
              "      <th>transportation_expense</th>\n",
              "      <th>distance_from_residence_to_work</th>\n",
              "      <th>service_time</th>\n",
              "      <th>age</th>\n",
              "      <th>work_load_average/day_</th>\n",
              "      <th>...</th>\n",
              "      <th>disciplinary_failure</th>\n",
              "      <th>education</th>\n",
              "      <th>son</th>\n",
              "      <th>social_drinker</th>\n",
              "      <th>social_smoker</th>\n",
              "      <th>pet</th>\n",
              "      <th>weight</th>\n",
              "      <th>height</th>\n",
              "      <th>body_mass_index</th>\n",
              "      <th>absenteeism_time_in_hours</th>\n",
              "    </tr>\n",
              "  </thead>\n",
              "  <tbody>\n",
              "    <tr>\n",
              "      <th>0</th>\n",
              "      <td>11</td>\n",
              "      <td>26</td>\n",
              "      <td>7</td>\n",
              "      <td>3</td>\n",
              "      <td>1</td>\n",
              "      <td>289</td>\n",
              "      <td>36</td>\n",
              "      <td>13</td>\n",
              "      <td>33</td>\n",
              "      <td>239.554</td>\n",
              "      <td>...</td>\n",
              "      <td>0</td>\n",
              "      <td>1</td>\n",
              "      <td>2</td>\n",
              "      <td>1</td>\n",
              "      <td>0</td>\n",
              "      <td>1</td>\n",
              "      <td>90</td>\n",
              "      <td>172</td>\n",
              "      <td>30</td>\n",
              "      <td>4</td>\n",
              "    </tr>\n",
              "    <tr>\n",
              "      <th>1</th>\n",
              "      <td>36</td>\n",
              "      <td>0</td>\n",
              "      <td>7</td>\n",
              "      <td>3</td>\n",
              "      <td>1</td>\n",
              "      <td>118</td>\n",
              "      <td>13</td>\n",
              "      <td>18</td>\n",
              "      <td>50</td>\n",
              "      <td>239.554</td>\n",
              "      <td>...</td>\n",
              "      <td>1</td>\n",
              "      <td>1</td>\n",
              "      <td>1</td>\n",
              "      <td>1</td>\n",
              "      <td>0</td>\n",
              "      <td>0</td>\n",
              "      <td>98</td>\n",
              "      <td>178</td>\n",
              "      <td>31</td>\n",
              "      <td>0</td>\n",
              "    </tr>\n",
              "    <tr>\n",
              "      <th>2</th>\n",
              "      <td>3</td>\n",
              "      <td>23</td>\n",
              "      <td>7</td>\n",
              "      <td>4</td>\n",
              "      <td>1</td>\n",
              "      <td>179</td>\n",
              "      <td>51</td>\n",
              "      <td>18</td>\n",
              "      <td>38</td>\n",
              "      <td>239.554</td>\n",
              "      <td>...</td>\n",
              "      <td>0</td>\n",
              "      <td>1</td>\n",
              "      <td>0</td>\n",
              "      <td>1</td>\n",
              "      <td>0</td>\n",
              "      <td>0</td>\n",
              "      <td>89</td>\n",
              "      <td>170</td>\n",
              "      <td>31</td>\n",
              "      <td>2</td>\n",
              "    </tr>\n",
              "    <tr>\n",
              "      <th>3</th>\n",
              "      <td>7</td>\n",
              "      <td>7</td>\n",
              "      <td>7</td>\n",
              "      <td>5</td>\n",
              "      <td>1</td>\n",
              "      <td>279</td>\n",
              "      <td>5</td>\n",
              "      <td>14</td>\n",
              "      <td>39</td>\n",
              "      <td>239.554</td>\n",
              "      <td>...</td>\n",
              "      <td>0</td>\n",
              "      <td>1</td>\n",
              "      <td>2</td>\n",
              "      <td>1</td>\n",
              "      <td>1</td>\n",
              "      <td>0</td>\n",
              "      <td>68</td>\n",
              "      <td>168</td>\n",
              "      <td>24</td>\n",
              "      <td>4</td>\n",
              "    </tr>\n",
              "    <tr>\n",
              "      <th>4</th>\n",
              "      <td>11</td>\n",
              "      <td>23</td>\n",
              "      <td>7</td>\n",
              "      <td>5</td>\n",
              "      <td>1</td>\n",
              "      <td>289</td>\n",
              "      <td>36</td>\n",
              "      <td>13</td>\n",
              "      <td>33</td>\n",
              "      <td>239.554</td>\n",
              "      <td>...</td>\n",
              "      <td>0</td>\n",
              "      <td>1</td>\n",
              "      <td>2</td>\n",
              "      <td>1</td>\n",
              "      <td>0</td>\n",
              "      <td>1</td>\n",
              "      <td>90</td>\n",
              "      <td>172</td>\n",
              "      <td>30</td>\n",
              "      <td>2</td>\n",
              "    </tr>\n",
              "  </tbody>\n",
              "</table>\n",
              "<p>5 rows × 21 columns</p>\n",
              "</div>\n",
              "      <button class=\"colab-df-convert\" onclick=\"convertToInteractive('df-78152f76-bdd4-468c-9380-23f69e5590dd')\"\n",
              "              title=\"Convert this dataframe to an interactive table.\"\n",
              "              style=\"display:none;\">\n",
              "        \n",
              "  <svg xmlns=\"http://www.w3.org/2000/svg\" height=\"24px\"viewBox=\"0 0 24 24\"\n",
              "       width=\"24px\">\n",
              "    <path d=\"M0 0h24v24H0V0z\" fill=\"none\"/>\n",
              "    <path d=\"M18.56 5.44l.94 2.06.94-2.06 2.06-.94-2.06-.94-.94-2.06-.94 2.06-2.06.94zm-11 1L8.5 8.5l.94-2.06 2.06-.94-2.06-.94L8.5 2.5l-.94 2.06-2.06.94zm10 10l.94 2.06.94-2.06 2.06-.94-2.06-.94-.94-2.06-.94 2.06-2.06.94z\"/><path d=\"M17.41 7.96l-1.37-1.37c-.4-.4-.92-.59-1.43-.59-.52 0-1.04.2-1.43.59L10.3 9.45l-7.72 7.72c-.78.78-.78 2.05 0 2.83L4 21.41c.39.39.9.59 1.41.59.51 0 1.02-.2 1.41-.59l7.78-7.78 2.81-2.81c.8-.78.8-2.07 0-2.86zM5.41 20L4 18.59l7.72-7.72 1.47 1.35L5.41 20z\"/>\n",
              "  </svg>\n",
              "      </button>\n",
              "      \n",
              "  <style>\n",
              "    .colab-df-container {\n",
              "      display:flex;\n",
              "      flex-wrap:wrap;\n",
              "      gap: 12px;\n",
              "    }\n",
              "\n",
              "    .colab-df-convert {\n",
              "      background-color: #E8F0FE;\n",
              "      border: none;\n",
              "      border-radius: 50%;\n",
              "      cursor: pointer;\n",
              "      display: none;\n",
              "      fill: #1967D2;\n",
              "      height: 32px;\n",
              "      padding: 0 0 0 0;\n",
              "      width: 32px;\n",
              "    }\n",
              "\n",
              "    .colab-df-convert:hover {\n",
              "      background-color: #E2EBFA;\n",
              "      box-shadow: 0px 1px 2px rgba(60, 64, 67, 0.3), 0px 1px 3px 1px rgba(60, 64, 67, 0.15);\n",
              "      fill: #174EA6;\n",
              "    }\n",
              "\n",
              "    [theme=dark] .colab-df-convert {\n",
              "      background-color: #3B4455;\n",
              "      fill: #D2E3FC;\n",
              "    }\n",
              "\n",
              "    [theme=dark] .colab-df-convert:hover {\n",
              "      background-color: #434B5C;\n",
              "      box-shadow: 0px 1px 3px 1px rgba(0, 0, 0, 0.15);\n",
              "      filter: drop-shadow(0px 1px 2px rgba(0, 0, 0, 0.3));\n",
              "      fill: #FFFFFF;\n",
              "    }\n",
              "  </style>\n",
              "\n",
              "      <script>\n",
              "        const buttonEl =\n",
              "          document.querySelector('#df-78152f76-bdd4-468c-9380-23f69e5590dd button.colab-df-convert');\n",
              "        buttonEl.style.display =\n",
              "          google.colab.kernel.accessAllowed ? 'block' : 'none';\n",
              "\n",
              "        async function convertToInteractive(key) {\n",
              "          const element = document.querySelector('#df-78152f76-bdd4-468c-9380-23f69e5590dd');\n",
              "          const dataTable =\n",
              "            await google.colab.kernel.invokeFunction('convertToInteractive',\n",
              "                                                     [key], {});\n",
              "          if (!dataTable) return;\n",
              "\n",
              "          const docLinkHtml = 'Like what you see? Visit the ' +\n",
              "            '<a target=\"_blank\" href=https://colab.research.google.com/notebooks/data_table.ipynb>data table notebook</a>'\n",
              "            + ' to learn more about interactive tables.';\n",
              "          element.innerHTML = '';\n",
              "          dataTable['output_type'] = 'display_data';\n",
              "          await google.colab.output.renderOutput(dataTable, element);\n",
              "          const docLink = document.createElement('div');\n",
              "          docLink.innerHTML = docLinkHtml;\n",
              "          element.appendChild(docLink);\n",
              "        }\n",
              "      </script>\n",
              "    </div>\n",
              "  </div>\n",
              "  "
            ],
            "text/plain": [
              "   id  reason_for_absence  month_of_absence  day_of_the_week  Seasons  \\\n",
              "0  11                  26                 7                3        1   \n",
              "1  36                   0                 7                3        1   \n",
              "2   3                  23                 7                4        1   \n",
              "3   7                   7                 7                5        1   \n",
              "4  11                  23                 7                5        1   \n",
              "\n",
              "   transportation_expense  distance_from_residence_to_work  service_time  age  \\\n",
              "0                     289                               36            13   33   \n",
              "1                     118                               13            18   50   \n",
              "2                     179                               51            18   38   \n",
              "3                     279                                5            14   39   \n",
              "4                     289                               36            13   33   \n",
              "\n",
              "   work_load_average/day_  ...  disciplinary_failure  education  son  \\\n",
              "0                 239.554  ...                     0          1    2   \n",
              "1                 239.554  ...                     1          1    1   \n",
              "2                 239.554  ...                     0          1    0   \n",
              "3                 239.554  ...                     0          1    2   \n",
              "4                 239.554  ...                     0          1    2   \n",
              "\n",
              "   social_drinker  social_smoker  pet  weight  height  body_mass_index  \\\n",
              "0               1              0    1      90     172               30   \n",
              "1               1              0    0      98     178               31   \n",
              "2               1              0    0      89     170               31   \n",
              "3               1              1    0      68     168               24   \n",
              "4               1              0    1      90     172               30   \n",
              "\n",
              "   absenteeism_time_in_hours  \n",
              "0                          4  \n",
              "1                          0  \n",
              "2                          2  \n",
              "3                          4  \n",
              "4                          2  \n",
              "\n",
              "[5 rows x 21 columns]"
            ]
          },
          "execution_count": 20,
          "metadata": {},
          "output_type": "execute_result"
        }
      ],
      "source": [
        "labels = list(df.columns)\n",
        "labels[0] = labels[0].replace(' ', '_').lower()\n",
        "labels[1] = labels[1].replace(' ', '_').lower()\n",
        "labels[2] = labels[2].replace(' ', '_').lower()\n",
        "labels[3] = labels[3].replace(' ', '_').lower()\n",
        "labels[5] = labels[5].replace(' ', '_').lower()\n",
        "labels[6] = labels[6].replace(' ', '_').lower()\n",
        "labels[7] = labels[7].replace(' ', '_').lower()\n",
        "labels[8] = labels[8].replace(' ', '_').lower()\n",
        "labels[9] = labels[9].replace(' ', '_').lower()\n",
        "labels[10] = labels[10].replace(' ', '_').lower()\n",
        "labels[11] = labels[11].replace(' ', '_').lower()\n",
        "labels[12] = labels[12].replace(' ', '_').lower()\n",
        "labels[13] = labels[13].replace(' ', '_').lower()\n",
        "labels[14] = labels[14].replace(' ', '_').lower()\n",
        "labels[15] = labels[15].replace(' ', '_').lower()\n",
        "labels[16] = labels[16].replace(' ', '_').lower()\n",
        "labels[17] = labels[17].replace(' ', '_').lower()\n",
        "labels[18] = labels[18].replace(' ', '_').lower()\n",
        "labels[19] = labels[19].replace(' ', '_').lower()\n",
        "labels[20] = labels[20].replace(' ', '_').lower()\n",
        "\n",
        "df.columns = labels\n",
        "\n",
        "df.head()"
      ]
    },
    {
      "cell_type": "markdown",
      "metadata": {
        "id": "GpI8QJYOFFHt"
      },
      "source": [
        "# 8 - Codigo eficiente"
      ]
    },
    {
      "cell_type": "markdown",
      "metadata": {
        "id": "ZMTjW50ZJ1We"
      },
      "source": [
        "## 8.1 ¿Que es?\n",
        "Escribir código Python eficiente es una forma en que un programador principiante puede avanzar para convertirse en un programador intermedio y apreciar la legibilidad del código junto con la productividad de un desarrollador.\n",
        "\n",
        "Son varios puntos a considear cuando de codigo eficiente se trata, entre ellos destacan dos:\n",
        "* Que el codigo sea rapido\n",
        "* Se consuma lo menos posible de memoria o almacenamiento.\n",
        "\n",
        "Mucho depende del tipo de proyecto que se este llevando a cabo. En entrenamientos de modelos pequeños, quiza no afecte tanto no tener un codigo tan eficiente. Pero en entrenamientos de datos masivos, como el caso del [Autopilot de Tesla](https://www.tesla.com/AI) una compilación completa de redes neuronales de Autopilot involucra 48 redes que requieren 70,000 horas de GPU para entrenarse.\n",
        "\n"
      ]
    },
    {
      "cell_type": "markdown",
      "metadata": {
        "id": "32KOoMsJJtnq"
      },
      "source": [
        "## 8.2 Ejemplo - List Comprehension VS Generator Expression\n",
        "\n",
        "**¿Qué es List Comprehension?**\n",
        "\n",
        "Es una forma elegante de definir y crear una lista. La comprensión de listas nos permite crear una lista usando for loop con menos código. Lo que normalmente requiere de 3 a 4 líneas de código, se puede comprimir en una sola línea.\n"
      ]
    },
    {
      "cell_type": "code",
      "execution_count": null,
      "metadata": {
        "id": "30bXYyGBUrbL"
      },
      "outputs": [],
      "source": [
        "# List Comprehension example\n",
        "\n",
        "# initializing the list\n",
        "list = []\n",
        "\n",
        "for i in range(11):\n",
        "    if i % 2 == 0:\n",
        "        list.append(i)\n",
        "\n",
        "# print elements\n",
        "print(list)"
      ]
    },
    {
      "cell_type": "code",
      "execution_count": null,
      "metadata": {
        "colab": {
          "base_uri": "https://localhost:8080/"
        },
        "id": "lnsKs57nUxyl",
        "outputId": "bdd3a6b8-2a61-40b4-c0b6-31abdd83e491"
      },
      "outputs": [
        {
          "name": "stdout",
          "output_type": "stream",
          "text": [
            "[0, 2, 4, 6, 8, 10]\n"
          ]
        }
      ],
      "source": [
        "list = [i for i in range(11) if i % 2 == 0]\n",
        "print(list)"
      ]
    },
    {
      "cell_type": "markdown",
      "metadata": {
        "id": "QP2BgunZU4NA"
      },
      "source": [
        "**¿Qué es Generator Expression?**\n",
        "\n",
        "Las Generator Expression son algo similares a las List Comprehension, pero las primeras no construyen objetos de lista. En lugar de crear una lista y mantener toda la secuencia en la memoria, el generador genera el siguiente elemento en demanda. Cuando se llama a una función normal con una declaración de retorno, termina cada vez que recibe una declaración de retorno.\n",
        "\n",
        "List Comprehension usan `[]`\n",
        "````\n",
        "# List Comprehension\n",
        "list_comprehension = [i for i in range(11) if i % 2 == 0]\n",
        "  \n",
        "print(list_comprehension)\n",
        "````\n",
        "\n",
        "Generator Expression usan `()`\n",
        "````\n",
        "# List Comprehension\n",
        "list_comprehension = (i for i in range(11) if i % 2 == 0)\n",
        "  \n",
        "print(list_comprehension)\n",
        "````\n",
        "\n",
        "\n",
        "\n"
      ]
    },
    {
      "cell_type": "markdown",
      "metadata": {
        "id": "YqSpjDmDVvIB"
      },
      "source": [
        "**Diferencias puntuales**\n",
        "\n",
        "El generator produce un elemento a la vez y genera elementos solo cuando hay demanda. Mientras que, en una list comprehension, Python reserva memoria para toda la lista. Por lo tanto, podemos decir que las generator expresion son más eficientes en memoria que las listas."
      ]
    },
    {
      "cell_type": "code",
      "execution_count": null,
      "metadata": {
        "colab": {
          "base_uri": "https://localhost:8080/"
        },
        "id": "dXj_eyOOVUbf",
        "outputId": "5ab932f8-0986-41d0-e5bf-018eabebe578"
      },
      "outputs": [
        {
          "name": "stdout",
          "output_type": "stream",
          "text": [
            "x =  8697472\n",
            "y =  128\n"
          ]
        }
      ],
      "source": [
        "# import getsizeof from sys module\n",
        "from sys import getsizeof\n",
        "\n",
        "comp = [i for i in range(1000000)]\n",
        "gen = (i for i in range(1000000))\n",
        "\n",
        "# gives size for list comprehension in bytes\n",
        "x = getsizeof(comp)\n",
        "print(\"x = \", x)\n",
        "\n",
        "# gives size for generator expression in bytes\n",
        "y = getsizeof(gen)\n",
        "print(\"y = \", y)"
      ]
    },
    {
      "cell_type": "markdown",
      "metadata": {
        "id": "0Q7siHNK5OvV"
      },
      "source": [
        "## 8.3 Prueba de eficiencia"
      ]
    },
    {
      "cell_type": "code",
      "execution_count": null,
      "metadata": {
        "colab": {
          "base_uri": "https://localhost:8080/"
        },
        "id": "4snTwC6hS2Fd",
        "outputId": "4dc035c4-80af-4192-c197-801eb59bd6d2"
      },
      "outputs": [
        {
          "name": "stdout",
          "output_type": "stream",
          "text": [
            "Writing efficient_code.py\n"
          ]
        }
      ],
      "source": [
        "%%writefile efficient_code.py\n",
        "import math\n",
        "import numpy as np\n",
        "\n",
        "def power_data(arr, n):\n",
        "  return (math.pow(i,n) for i in arr) # Usando Expresion de Generator\n",
        "\n",
        "def square_root(arr):\n",
        "  return (math.sqrt(i) for i in arr) # Usando Expresion de Generator\n",
        "\n",
        "def process_data():\n",
        "  data_train = [34, 45, 76, 54, 98]\n",
        "  powered_2 = power_data(data_train, 2)\n",
        "  powered_3 = power_data(data_train, 3)\n",
        "  data_sqrt = square_root(data_train)"
      ]
    },
    {
      "cell_type": "code",
      "execution_count": null,
      "metadata": {
        "colab": {
          "base_uri": "https://localhost:8080/"
        },
        "id": "MpxbW_WET9CH",
        "outputId": "ff716dec-ee45-4b0a-a8e3-eb98012439b0"
      },
      "outputs": [
        {
          "name": "stdout",
          "output_type": "stream",
          "text": [
            "100000 loops, best of 5: 4.59 usec per loop\n"
          ]
        }
      ],
      "source": [
        "!python -mtimeit -n 100000 -s'import better' 'better.process_data()'"
      ]
    },
    {
      "cell_type": "code",
      "execution_count": null,
      "metadata": {
        "colab": {
          "base_uri": "https://localhost:8080/"
        },
        "id": "43z9CtRmTv9f",
        "outputId": "a96555c6-01e9-4981-f5c6-51bdf0cad1e3"
      },
      "outputs": [
        {
          "name": "stdout",
          "output_type": "stream",
          "text": [
            "100000 loops, best of 5: 1.71 usec per loop\n"
          ]
        }
      ],
      "source": [
        "!python -mtimeit -n 100000 -s'import efficient_code' 'efficient_code.process_data()'"
      ]
    },
    {
      "cell_type": "markdown",
      "metadata": {
        "id": "TeeN5U1msWb1"
      },
      "source": [
        "# Fuentes\n",
        "* https://medium.com/techtofreedom/5-best-practices-of-destructuring-assignments-in-python-81bce95c5fda\n",
        "* [Midiendo tiempo de ejecucion y uso de memoria](https://www.guru99.com/timeit-python-examples.html)\n",
        "* [Doesn't making functions in our code make it slower?](https://www.quora.com/Doesnt-making-functions-in-our-code-make-it-slower)\n",
        "* [How not to be slow using Python: Functions](https://pawroman.dev/how-not-to-be-slow-using-python-functions/)\n",
        "* [How to write efficient Python code](https://www.section.io/engineering-education/how-to-write-efficient-python-code/)\n",
        "* [Python refactoring tips](https://www.python-engineer.com/posts/python-refactoring-tips/)\n",
        "\n",
        "Libros\n",
        "* Anaya, M. (2018). Clean Code in Python: Refactor your legacy code base.\n",
        "* Gorelick, M. (2020). High Performance Python: Practical Performant Programming for Humans.\n",
        "\n",
        "Herramienta para refactorizar\n",
        "* [Sourcery Refactorings](https://docs.sourcery.ai/refactorings/)\n",
        "\n"
      ]
    }
  ],
  "metadata": {
    "colab": {
      "provenance": [],
      "toc_visible": true
    },
    "kernelspec": {
      "display_name": "Python 3",
      "name": "python3"
    },
    "language_info": {
      "name": "python"
    }
  },
  "nbformat": 4,
  "nbformat_minor": 0
}
