{
 "cells": [
  {
   "cell_type": "markdown",
   "metadata": {},
   "source": [
    "# Setup"
   ]
  },
  {
   "cell_type": "code",
   "execution_count": 6,
   "metadata": {},
   "outputs": [
    {
     "name": "stdout",
     "output_type": "stream",
     "text": [
      "Collecting requests\n",
      "  Using cached requests-2.31.0-py3-none-any.whl (62 kB)\n",
      "Collecting certifi>=2017.4.17\n",
      "  Using cached certifi-2023.7.22-py3-none-any.whl (158 kB)\n",
      "Collecting idna<4,>=2.5\n",
      "  Using cached idna-3.4-py3-none-any.whl (61 kB)\n",
      "Collecting urllib3<3,>=1.21.1\n",
      "  Using cached urllib3-2.0.4-py3-none-any.whl (123 kB)\n",
      "Collecting charset-normalizer<4,>=2\n",
      "  Using cached charset_normalizer-3.2.0-cp310-cp310-macosx_10_9_x86_64.whl (126 kB)\n",
      "Installing collected packages: urllib3, idna, charset-normalizer, certifi, requests\n",
      "Successfully installed certifi-2023.7.22 charset-normalizer-3.2.0 idna-3.4 requests-2.31.0 urllib3-2.0.4\n",
      "\n",
      "\u001b[1m[\u001b[0m\u001b[34;49mnotice\u001b[0m\u001b[1;39;49m]\u001b[0m\u001b[39;49m A new release of pip is available: \u001b[0m\u001b[31;49m23.0.1\u001b[0m\u001b[39;49m -> \u001b[0m\u001b[32;49m23.2.1\u001b[0m\n",
      "\u001b[1m[\u001b[0m\u001b[34;49mnotice\u001b[0m\u001b[1;39;49m]\u001b[0m\u001b[39;49m To update, run: \u001b[0m\u001b[32;49mpip install --upgrade pip\u001b[0m\n"
     ]
    }
   ],
   "source": [
    "!pip install requests"
   ]
  },
  {
   "cell_type": "markdown",
   "metadata": {},
   "source": [
    "# CURL"
   ]
  },
  {
   "cell_type": "markdown",
   "metadata": {},
   "source": [
    "* **List users**"
   ]
  },
  {
   "cell_type": "code",
   "execution_count": 2,
   "metadata": {},
   "outputs": [
    {
     "name": "stdout",
     "output_type": "stream",
     "text": [
      "HTTP/2 200 \n",
      "\u001b[1mdate\u001b[0m: Tue, 08 Aug 2023 15:36:30 GMT\n",
      "\u001b[1mcontent-type\u001b[0m: application/json; charset=utf-8\n",
      "\u001b[1mcache-control\u001b[0m: max-age=0, private, must-revalidate\n",
      "\u001b[1metag\u001b[0m: W/\"d5801368b8652b64056a30e734e4a0c6\"\n",
      "\u001b[1mreferrer-policy\u001b[0m: strict-origin-when-cross-origin\n",
      "\u001b[1mvary\u001b[0m: Origin\n",
      "\u001b[1mx-content-type-options\u001b[0m: nosniff\n",
      "\u001b[1mx-download-options\u001b[0m: noopen\n",
      "\u001b[1mx-frame-options\u001b[0m: SAMEORIGIN\n",
      "\u001b[1mx-links-current\u001b[0m: https://gorest.co.in/public/v2/users?page=1\n",
      "\u001b[1mx-links-next\u001b[0m: https://gorest.co.in/public/v2/users?page=2\n",
      "\u001b[1mx-links-previous\u001b[0m: \n",
      "\u001b[1mx-pagination-limit\u001b[0m: 10\n",
      "\u001b[1mx-pagination-page\u001b[0m: 1\n",
      "\u001b[1mx-pagination-pages\u001b[0m: 275\n",
      "\u001b[1mx-pagination-total\u001b[0m: 2748\n",
      "\u001b[1mx-permitted-cross-domain-policies\u001b[0m: none\n",
      "\u001b[1mx-ratelimit-limit\u001b[0m: 90\n",
      "\u001b[1mx-ratelimit-remaining\u001b[0m: 89\n",
      "\u001b[1mx-ratelimit-reset\u001b[0m: 1\n",
      "\u001b[1mx-request-id\u001b[0m: 72bd319c-0ec2-44d1-b6e1-00c80fac9cb8\n",
      "\u001b[1mx-runtime\u001b[0m: 0.047090\n",
      "\u001b[1mx-xss-protection\u001b[0m: 0\n",
      "\u001b[1mcf-cache-status\u001b[0m: DYNAMIC\n",
      "\u001b[1mreport-to\u001b[0m: {\"endpoints\":[{\"url\":\"https:\\/\\/a.nel.cloudflare.com\\/report\\/v3?s=V4WwW9daUhMDC7w9frn%2FMioRRCvv3H6CPoPyvhUWGfDIWyQp4Uf%2FCmJdrjJsjn%2FikS5c0gZvez57CO6Cs5Dz47raz0a3W6S8%2BLM14MFu%2BUsOjBDxD2Sf0hAglHPwBUZag2MGajkEl%2FmVk5g%3D\"}],\"group\":\"cf-nel\",\"max_age\":604800}\n",
      "\u001b[1mnel\u001b[0m: {\"success_fraction\":0,\"report_to\":\"cf-nel\",\"max_age\":604800}\n",
      "\u001b[1mserver\u001b[0m: cloudflare\n",
      "\u001b[1mcf-ray\u001b[0m: 7f38d5d26dd7219b-GDL\n",
      "\u001b[1malt-svc\u001b[0m: h3=\":443\"; ma=86400\n",
      "\n",
      "[{\"id\":4275440,\"name\":\"Ahalya Menon\",\"email\":\"ahalya_menon@runte.test\",\"gender\":\"female\",\"status\":\"inactive\"},{\"id\":4275439,\"name\":\"Mr. Rohit Khatri\",\"email\":\"mr_rohit_khatri@fadel.test\",\"gender\":\"female\",\"status\":\"inactive\"},{\"id\":4275438,\"name\":\"Darshwana Banerjee\",\"email\":\"darshwana_banerjee@will.test\",\"gender\":\"male\",\"status\":\"active\"},{\"id\":4275436,\"name\":\"Giriraaj Desai\",\"email\":\"giriraaj_desai@rolfson.example\",\"gender\":\"female\",\"status\":\"inactive\"},{\"id\":4275435,\"name\":\"Fr. Adityanandana Kaur\",\"email\":\"kaur_adityanandana_fr@bashirian.test\",\"gender\":\"male\",\"status\":\"inactive\"},{\"id\":4275434,\"name\":\"Guru Desai\",\"email\":\"guru_desai@rutherford.test\",\"gender\":\"female\",\"status\":\"inactive\"},{\"id\":4275433,\"name\":\"Maheswar Guneta\",\"email\":\"guneta_maheswar@lueilwitz.example\",\"gender\":\"male\",\"status\":\"inactive\"},{\"id\":4275432,\"name\":\"Gopee Mishra\",\"email\":\"gopee_mishra@schaden.test\",\"gender\":\"female\",\"status\":\"active\"},{\"id\":4275431,\"name\":\"Purnima Kaur\",\"email\":\"purnima_kaur@hickle.test\",\"gender\":\"male\",\"status\":\"inactive\"},{\"id\":4275430,\"name\":\"Lila Kocchar Sr.\",\"email\":\"sr_lila_kocchar@kessler.test\",\"gender\":\"female\",\"status\":\"inactive\"}]"
     ]
    }
   ],
   "source": [
    "\n",
    "!curl -i -H \"Accept:application/json\" -H \"Content-Type:application/json\" -H \"Authorization: Bearer YOUR-TOKEN-HERE\" -XGET \"https://gorest.co.in/public/v2/users\"\n"
   ]
  },
  {
   "cell_type": "markdown",
   "metadata": {},
   "source": [
    "* **Create user**"
   ]
  },
  {
   "cell_type": "code",
   "execution_count": 4,
   "metadata": {},
   "outputs": [
    {
     "name": "stdout",
     "output_type": "stream",
     "text": [
      "HTTP/2 201 \n",
      "\u001b[1mdate\u001b[0m: Tue, 08 Aug 2023 15:37:19 GMT\n",
      "\u001b[1mcontent-type\u001b[0m: application/json; charset=utf-8\n",
      "\u001b[1mlocation\u001b[0m:\u001b]8;;https://gorest.co.in/public/v2/users/4297712\u001b\\ https://gorest.co.in/public/v2/users/4297712\n",
      "\u001b]8;;\u001b\\\u001b[1mcache-control\u001b[0m: max-age=0, private, must-revalidate\n",
      "\u001b[1metag\u001b[0m: W/\"c27cd90cfe619b992b3d38bc0ffda284\"\n",
      "\u001b[1mreferrer-policy\u001b[0m: strict-origin-when-cross-origin\n",
      "\u001b[1mvary\u001b[0m: Origin\n",
      "\u001b[1mx-content-type-options\u001b[0m: nosniff\n",
      "\u001b[1mx-download-options\u001b[0m: noopen\n",
      "\u001b[1mx-frame-options\u001b[0m: SAMEORIGIN\n",
      "\u001b[1mx-permitted-cross-domain-policies\u001b[0m: none\n",
      "\u001b[1mx-ratelimit-limit\u001b[0m: 90\n",
      "\u001b[1mx-ratelimit-remaining\u001b[0m: 89\n",
      "\u001b[1mx-ratelimit-reset\u001b[0m: 1\n",
      "\u001b[1mx-request-id\u001b[0m: b2cffb2d-decf-48cd-bd8f-5bf19f28b07e\n",
      "\u001b[1mx-runtime\u001b[0m: 0.072919\n",
      "\u001b[1mx-xss-protection\u001b[0m: 0\n",
      "\u001b[1mcf-cache-status\u001b[0m: DYNAMIC\n",
      "\u001b[1mreport-to\u001b[0m: {\"endpoints\":[{\"url\":\"https:\\/\\/a.nel.cloudflare.com\\/report\\/v3?s=UKqeI9vygt%2BqMdy6Um%2Bv8Bxs%2BmZaM8vKspHeSq8G5xhOoktQw4pQpq%2B%2BqtF7IbnQostJ0vLfj0hdMf25stLPuUCO6hbQYwmbUx8ClZah%2BHxqNR0mj4u0rs%2Fx0qa9HL1Kj28tT0rMPqz7yUg%3D\"}],\"group\":\"cf-nel\",\"max_age\":604800}\n",
      "\u001b[1mnel\u001b[0m: {\"success_fraction\":0,\"report_to\":\"cf-nel\",\"max_age\":604800}\n",
      "\u001b[1mserver\u001b[0m: cloudflare\n",
      "\u001b[1mcf-ray\u001b[0m: 7f38d7098e46219e-GDL\n",
      "\u001b[1malt-svc\u001b[0m: h3=\":443\"; ma=86400\n",
      "\n",
      "{\"id\":4297712,\"name\":\"Tenali Ramakrishna\",\"email\":\"carlos@15ce.com\",\"gender\":\"male\",\"status\":\"active\"}"
     ]
    }
   ],
   "source": [
    "!curl -i -H \"Accept:application/json\" -H \"Content-Type:application/json\" -H \"Authorization: Bearer YOUR-TOKEN-HERE\" -XPOST \"https://gorest.co.in/public/v2/users\" -d '{\"name\":\"Tenali Ramakrishna\", \"gender\":\"male\", \"email\":\"carlos@15ce.com\", \"status\":\"active\"}'"
   ]
  },
  {
   "cell_type": "markdown",
   "metadata": {},
   "source": [
    "# Python Requests"
   ]
  },
  {
   "cell_type": "markdown",
   "metadata": {},
   "source": [
    "* **Update user**"
   ]
  },
  {
   "cell_type": "code",
   "execution_count": 9,
   "metadata": {},
   "outputs": [
    {
     "name": "stdout",
     "output_type": "stream",
     "text": [
      "200\n",
      "{\"email\":\"carlos_l@15ce.com\",\"name\":\"Allasani Peddana\",\"status\":\"active\",\"id\":2481,\"gender\":\"female\"}\n"
     ]
    }
   ],
   "source": [
    "import requests\n",
    "\n",
    "url = \"https://gorest.co.in/public/v2/users/2481\"\n",
    "headers = {\n",
    "    \"Accept\": \"application/json\",\n",
    "    \"Content-Type\": \"application/json\",\n",
    "    \"Authorization\": \"Bearer YOUR-TOKEN-HERE\"\n",
    "}\n",
    "data = {\n",
    "    \"name\": \"Allasani Peddana\",\n",
    "    \"email\": \"carlos_l@15ce.com\",\n",
    "    \"status\": \"active\"\n",
    "}\n",
    "\n",
    "response = requests.patch(url, headers=headers, json=data)\n",
    "\n",
    "print(response.status_code)\n",
    "print(response.text)"
   ]
  },
  {
   "cell_type": "markdown",
   "metadata": {},
   "source": [
    "* **Delete user**"
   ]
  },
  {
   "cell_type": "code",
   "execution_count": 10,
   "metadata": {},
   "outputs": [
    {
     "name": "stdout",
     "output_type": "stream",
     "text": [
      "204\n",
      "\n"
     ]
    }
   ],
   "source": [
    "import requests\n",
    "\n",
    "url = \"https://gorest.co.in/public/v2/users/2481\"\n",
    "headers = {\n",
    "    \"Accept\": \"application/json\",\n",
    "    \"Content-Type\": \"application/json\",\n",
    "    \"Authorization\": \"Bearer YOUR-TOKEN-HERE\"\n",
    "}\n",
    "\n",
    "response = requests.delete(url, headers=headers)\n",
    "\n",
    "print(response.status_code)\n",
    "print(response.text)"
   ]
  },
  {
   "cell_type": "markdown",
   "metadata": {},
   "source": [
    "# REST API Http Response Codes\n",
    "* 200: OK. Everything worked as expected.\n",
    "* 201: A resource was successfully created in response to a POST request. The Location header contains the URL pointing to the newly created resource.\n",
    "* 204: The request was handled successfully and the response contains no body content (like a DELETE request).\n",
    "* 304: The resource was not modified. You can use the cached version.\n",
    "* 400: Bad request. This could be caused by various actions by the user, such as providing invalid JSON data in the request body etc.\n",
    "* 401: Authentication failed.\n",
    "* 403: The authenticated user is not allowed to access the specified API endpoint.\n",
    "* 404: The requested resource does not exist.\n",
    "* 405: Method not allowed. Please check the Allow header for the allowed HTTP methods.\n",
    "* 415: Unsupported media type. The requested content type or version number is invalid.\n",
    "* 422: Data validation failed (in response to a POST request, for example). Please check the response body for detailed error messages.\n",
    "* 429: Too many requests. The request was rejected due to rate limiting.\n",
    "* 500: Internal server error. This could be caused by internal program errors."
   ]
  },
  {
   "cell_type": "code",
   "execution_count": null,
   "metadata": {},
   "outputs": [],
   "source": []
  }
 ],
 "metadata": {
  "kernelspec": {
   "display_name": "venv",
   "language": "python",
   "name": "python3"
  },
  "language_info": {
   "codemirror_mode": {
    "name": "ipython",
    "version": 3
   },
   "file_extension": ".py",
   "mimetype": "text/x-python",
   "name": "python",
   "nbconvert_exporter": "python",
   "pygments_lexer": "ipython3",
   "version": "3.10.12"
  },
  "orig_nbformat": 4
 },
 "nbformat": 4,
 "nbformat_minor": 2
}
