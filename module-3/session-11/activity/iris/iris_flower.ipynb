{
  "cells": [
    {
      "cell_type": "code",
      "execution_count": 6,
      "metadata": {
        "colab": {
          "base_uri": "https://localhost:8080/"
        },
        "id": "Wm8Ao2wTGe-w",
        "outputId": "276721e7-77af-4756-db8f-222d922341c0"
      },
      "outputs": [
        {
          "name": "stdout",
          "output_type": "stream",
          "text": [
            "{'class': 'virginica', 'probability': 1.0}\n"
          ]
        }
      ],
      "source": [
        "import numpy as np\n",
        "from sklearn.datasets import load_iris\n",
        "from sklearn.linear_model import LogisticRegression\n",
        "\n",
        "# Cargar datos de sklearn\n",
        "X, y = load_iris(return_X_y=True)\n",
        "\n",
        "# Entrenar el modelo usando regresion logistica\n",
        "clf = LogisticRegression(solver='lbfgs',\n",
        "                          max_iter=1000,\n",
        "                          multi_class='multinomial').fit(X, y)\n",
        "# Definir los tipos de iris\n",
        "iris_type = {\n",
        "    0: 'setosa',\n",
        "    1: 'versicolor',\n",
        "    2: 'virginica'\n",
        "}\n",
        "\n",
        "\n",
        "# Definir valores dummy\n",
        "sepal_length, sepal_width, petal_length, petal_width = 2,3,4,6\n",
        "X = [sepal_length, sepal_width, petal_length, petal_width]\n",
        "\n",
        "# Realizar una prediccion\n",
        "prediction = clf.predict_proba([X])\n",
        "print({'class': iris_type[np.argmax(prediction)],\n",
        "        'probability': round(max(prediction[0]), 2)})\n",
        "        \n"
      ]
    },
    {
      "cell_type": "code",
      "execution_count": null,
      "metadata": {
        "id": "HjxxsDuFG0or"
      },
      "outputs": [],
      "source": []
    }
  ],
  "metadata": {
    "colab": {
      "provenance": []
    },
    "kernelspec": {
      "display_name": "Python 3",
      "name": "python3"
    },
    "language_info": {
      "name": "python"
    }
  },
  "nbformat": 4,
  "nbformat_minor": 0
}
